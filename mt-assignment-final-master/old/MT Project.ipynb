{
 "cells": [
  {
   "cell_type": "code",
   "execution_count": 1,
   "metadata": {
    "scrolled": false
   },
   "outputs": [
    {
     "data": {
      "text/html": [
       "<div>\n",
       "<style scoped>\n",
       "    .dataframe tbody tr th:only-of-type {\n",
       "        vertical-align: middle;\n",
       "    }\n",
       "\n",
       "    .dataframe tbody tr th {\n",
       "        vertical-align: top;\n",
       "    }\n",
       "\n",
       "    .dataframe thead th {\n",
       "        text-align: right;\n",
       "    }\n",
       "</style>\n",
       "<table border=\"1\" class=\"dataframe\">\n",
       "  <thead>\n",
       "    <tr style=\"text-align: right;\">\n",
       "      <th></th>\n",
       "      <th>Label</th>\n",
       "      <th>Hindi</th>\n",
       "      <th>Eng</th>\n",
       "      <th>Marathi</th>\n",
       "      <th>Telugu</th>\n",
       "      <th>German</th>\n",
       "      <th>Japanese</th>\n",
       "    </tr>\n",
       "  </thead>\n",
       "  <tbody>\n",
       "    <tr>\n",
       "      <th>0</th>\n",
       "      <td>KA_1</td>\n",
       "      <td>KA_1</td>\n",
       "      <td>eat_1</td>\n",
       "      <td>KA_1</td>\n",
       "      <td>winu</td>\n",
       "      <td>NaN</td>\n",
       "      <td>NaN</td>\n",
       "    </tr>\n",
       "    <tr>\n",
       "      <th>1</th>\n",
       "      <td>ladakA_1</td>\n",
       "      <td>ladakA_1</td>\n",
       "      <td>boy_1</td>\n",
       "      <td>mulagA_1</td>\n",
       "      <td>NaN</td>\n",
       "      <td>NaN</td>\n",
       "      <td>NaN</td>\n",
       "    </tr>\n",
       "    <tr>\n",
       "      <th>2</th>\n",
       "      <td>kiwAba_1</td>\n",
       "      <td>kiwAba_1</td>\n",
       "      <td>book_1</td>\n",
       "      <td>puswaka_1</td>\n",
       "      <td>NaN</td>\n",
       "      <td>NaN</td>\n",
       "      <td>NaN</td>\n",
       "    </tr>\n",
       "    <tr>\n",
       "      <th>3</th>\n",
       "      <td>PaDa_1</td>\n",
       "      <td>PaDa_1</td>\n",
       "      <td>Read_1</td>\n",
       "      <td>Vaca_1</td>\n",
       "      <td>NaN</td>\n",
       "      <td>NaN</td>\n",
       "      <td>NaN</td>\n",
       "    </tr>\n",
       "    <tr>\n",
       "      <th>4</th>\n",
       "      <td>PaDa_2</td>\n",
       "      <td>PaDa_2</td>\n",
       "      <td>study_1</td>\n",
       "      <td>Sika_1</td>\n",
       "      <td>NaN</td>\n",
       "      <td>NaN</td>\n",
       "      <td>NaN</td>\n",
       "    </tr>\n",
       "  </tbody>\n",
       "</table>\n",
       "</div>"
      ],
      "text/plain": [
       "      Label     Hindi      Eng    Marathi Telugu German Japanese\n",
       "0      KA_1      KA_1    eat_1       KA_1   winu    NaN      NaN\n",
       "1  ladakA_1  ladakA_1    boy_1   mulagA_1    NaN    NaN      NaN\n",
       "2  kiwAba_1  kiwAba_1   book_1  puswaka_1    NaN    NaN      NaN\n",
       "3    PaDa_1    PaDa_1   Read_1     Vaca_1    NaN    NaN      NaN\n",
       "4    PaDa_2    PaDa_2  study_1     Sika_1    NaN    NaN      NaN"
      ]
     },
     "execution_count": 1,
     "metadata": {},
     "output_type": "execute_result"
    }
   ],
   "source": [
    "import pandas as pd\n",
    "import numpy as np\n",
    "import goslate\n",
    "\n",
    "df = pd.read_csv('concept_dictionary_user.csv')\n",
    "gs = goslate.Goslate(writing=goslate.WRITING_ROMAN)\n",
    "df.head()"
   ]
  },
  {
   "cell_type": "code",
   "execution_count": 2,
   "metadata": {},
   "outputs": [],
   "source": [
    "df = df[df['Eng'].notna()]"
   ]
  },
  {
   "cell_type": "code",
   "execution_count": 3,
   "metadata": {
    "scrolled": true
   },
   "outputs": [],
   "source": [
    "english = [word.split('_') for word in df['Eng'].values]"
   ]
  },
  {
   "cell_type": "code",
   "execution_count": 4,
   "metadata": {},
   "outputs": [],
   "source": [
    "def translate(word):\n",
    "    '''Returns Japanese translated string'''\n",
    "    return gs.translate(word, 'en', 'ja')"
   ]
  },
  {
   "cell_type": "code",
   "execution_count": 5,
   "metadata": {},
   "outputs": [],
   "source": [
    "#translate(english[0][0])"
   ]
  },
  {
   "cell_type": "code",
   "execution_count": 6,
   "metadata": {},
   "outputs": [],
   "source": [
    "#japanese = [translate_en_jap(word[0])+'_'+word[1] if len(word) == 2 else translate_en_jap(word[0]) for word in tqdm(english)]"
   ]
  },
  {
   "cell_type": "code",
   "execution_count": 7,
   "metadata": {},
   "outputs": [],
   "source": [
    "buffer = translate([word[0] for word in tqdm(english)])\n",
    "japanese = [w1+'_'+w2[1] if len(w2) == 2 else w1 for w1, w2 in tqdm(zip(buffer, english))]"
   ]
  },
  {
   "cell_type": "code",
   "execution_count": 8,
   "metadata": {},
   "outputs": [],
   "source": [
    "# Write to df and file\n",
    "df['Japanese'] = japanese\n",
    "df.to_excel('output.xlsx') "
   ]
  }
 ],
 "metadata": {
  "kernelspec": {
   "display_name": "Python 3",
   "language": "python",
   "name": "python3"
  },
  "language_info": {
   "codemirror_mode": {
    "name": "ipython",
    "version": 3
   },
   "file_extension": ".py",
   "mimetype": "text/x-python",
   "name": "python",
   "nbconvert_exporter": "python",
   "pygments_lexer": "ipython3",
   "version": "3.7.3"
  }
 },
 "nbformat": 4,
 "nbformat_minor": 5
}
